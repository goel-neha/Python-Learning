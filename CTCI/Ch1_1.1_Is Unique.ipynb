{
 "cells": [
  {
   "cell_type": "code",
   "execution_count": null,
   "metadata": {
    "collapsed": true
   },
   "outputs": [],
   "source": [
    "# Algo to determine if a string has all unique characters\n",
    "#Approach 1\n",
    "# Time Complexity of code is O(n) where n is length of string, space complexity is O(1)\n",
    "import unittest\n",
    "    \n",
    "def isUniqueChar(string):\n",
    "        if len(string) > 128:\n",
    "            return False\n",
    "\n",
    "        char_set = [False for _ in range(128)]  # an array of boolean values of length 128\n",
    "        for char in string:\n",
    "            val = ord(char) # ord() returns the ascii code of the cahracter or string\n",
    "            if char_set[val]:\n",
    "                return False\n",
    "            char_set[val] = True\n",
    "        return True  \n",
    "\n",
    "#UnitTestCases\n",
    "class Test(unittest.TestCase):\n",
    "        dataT = [('abcd'),('s4fad'),('')]\n",
    "        dataF = [('abcdegg'),('2gdhd2'),('')]\n",
    "\n",
    "        def test_unique(self):\n",
    "            # true check\n",
    "            for test_string in self.dataT:\n",
    "                actual = isUniqueChar(test_string)\n",
    "                self.assertTrue(actual)\n",
    "            #false check\n",
    "            for test_string in self.dataF:\n",
    "                actual = isUniqueChar(test_string)\n",
    "                self.assertFalse(actual) \n",
    "    \n",
    "from unittest import main\n",
    "if __name__ == \"__main__\":\n",
    "    unittest.main(argv=['first-arg-is-ignored'], exit=False) #this is how to run unittest in jupyter\n",
    "    \n",
    "\n",
    "# isUniqueChar('abcdd')\n",
    "# Outputs is False\n",
    "\n"
   ]
  },
  {
   "cell_type": "code",
   "execution_count": null,
   "metadata": {
    "collapsed": true
   },
   "outputs": [],
   "source": []
  }
 ],
 "metadata": {
  "kernelspec": {
   "display_name": "Python 3",
   "language": "python",
   "name": "python3"
  },
  "language_info": {
   "codemirror_mode": {
    "name": "ipython",
    "version": 3
   },
   "file_extension": ".py",
   "mimetype": "text/x-python",
   "name": "python",
   "nbconvert_exporter": "python",
   "pygments_lexer": "ipython3",
   "version": "3.6.1"
  }
 },
 "nbformat": 4,
 "nbformat_minor": 2
}
